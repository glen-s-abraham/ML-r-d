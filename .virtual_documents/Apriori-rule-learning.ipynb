import numpy as np
import matplotlib.pyplot as plt
import pandas as pd


file = 'dataset/ARL/Market_Basket_Optimisation.csv'
df = pd.read_csv(file,header=None)


transactions = []
for i in range(0,len(df)):
    transactions.append([str(value) for value in df.values[i]])


from apyori import apriori
rules = apriori(transactions=transactions,min_support = 0.003,min_cofidence=0.2,min_lift=3,min_length=2,max_length=2)


results = list(rules)


def inspect(results):
    lhs         = [tuple(result[2][0][0])[0] for result in results]
    rhs         = [tuple(result[2][0][1])[0] for result in results]
    supports    = [result[1] for result in results]
    confidences = [result[2][0][2] for result in results]
    lifts       = [result[2][0][3] for result in results]
    return list(zip(lhs, rhs, supports, confidences, lifts))
resultsinDataFrame = pd.DataFrame(inspect(results), columns = ['Left Hand Side', 'Right Hand Side', 'Support', 'Confidence', 'Lift'])


resultsinDataFrame


resultsinDataFrame.nlargest(n = 10, columns = 'Lift')
