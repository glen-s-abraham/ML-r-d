import numpy as np
import pandas as pd
import matplotlib.pyplot as plt


df = pd.read_csv('dataset/HC-clustering/Mall_Customers.csv')


X = df.iloc[:,[3,4]].values


import scipy.cluster.hierarchy as sch
dendrogram = sch.dendrogram(sch.linkage(X, method='ward'))
plt.title('Dendrogram')
plt.xlabel('Customers')
plt.ylabel('Euclidean distances')
plt.show()


from sklearn.cluster import AgglomerativeClustering

hc = AgglomerativeClustering(n_clusters=5,affinity='euclidean',linkage='ward')
hc.fit(X)


y_hc = hc.fit_predict(X)


plt.scatter(X[y_hc==0,0],X[y_hc==0,1],color='red',label='clutser1')
plt.scatter(X[y_hc==1,0],X[y_hc==1,1],color='green',label='clutser2')
plt.scatter(X[y_hc==2,0],X[y_hc==2,1],color='blue',label='clutser3')
plt.scatter(X[y_hc==3,0],X[y_hc==3,1],color='orange',label='clutser4')
plt.scatter(X[y_hc==4,0],X[y_hc==4,1],color='yellow',label='clutser5')
plt.legend()
