import pandas as pd


df = pd.read_csv('/home/glen/Downloads/bankruptcy/data.csv')
df['Bankrupt'] = df['Bankrupt?']






