import numpy as np
import pandas as pd
import matplotlib.pyplot as plt


file = 'dataset/logistic-regression-classification/Social_Network_Ads.csv'
df = pd.read_csv(file)
