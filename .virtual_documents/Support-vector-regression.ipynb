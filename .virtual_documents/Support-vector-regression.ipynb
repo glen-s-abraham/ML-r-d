import numpy as np
import matplotlib.pyplot as plt
import pandas as pd


file = 'dataset/svm-linear-regression/Position_Salaries.csv'
df = pd.read_csv(file)


X = df.iloc[:,1:-1].values
Y = df.iloc[:,-1].values


print(X)


print(Y)





Y= Y.reshape(len(Y),1)


from sklearn.preprocessing import StandardScaler
sc_X = StandardScaler()
sc_y = StandardScaler()
X = sc_X.fit_transform(X)
Y = sc_y.fit_transform(Y)


print(X)


print(Y)


from sklearn.svm import SVR
rregressor = SVR(kernel = 'rbf')#radial basis function kernel
regressor.fit(X, Y)


sc_Y.inverse_transform(regressor.predict(sc_X.transform([[6.5]])).reshape(-1,1))


plt.scatter(sc_X.inverse_transform(X), sc_Y.inverse_transform(Y), color = 'red')
plt.plot(sc_X.inverse_transform(X), sc_Y.inverse_transform(regressor.predict(X).reshape(-1,1)), color = 'blue')
plt.title('Truth or Bluff (SVR)')
plt.xlabel('Position level')
plt.ylabel('Salary')
plt.show()
