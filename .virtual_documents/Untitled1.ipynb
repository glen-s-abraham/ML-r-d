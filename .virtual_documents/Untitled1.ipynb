import numpy as np
import pandas as pd
import matplotlib.pyplot as plt


df = pd.read_csv('dataset/k-means-clustering/Mall_Customers.csv')


X = df.iloc[:,[3,4]].values


#elbow method for finding optimal number of clusters.
from sklearn.cluster import KMeans
wcss = []
for i in range(1,11):
    _kmeans = KMeans(n_clusters=i,init='k-means++',random_state=0)
    _kmeans.fit(X)
    wcss.append(_kmeans.inertia_)
plt.plot(range(1,11),wcss)
plt.xlabel('Number of clusters')
plt.ylabel('Wcss')


kmeans = KMeans(n_clusters=5,init='k-means++',random_state=0)
y_kmeans = kmeans.fit_predict(X)


kmeans.cluster_centers_


plt.scatter(X[y_kmeans==0,0],X[y_kmeans==0,1],color='red',label='clutser1')
plt.scatter(X[y_kmeans==1,0],X[y_kmeans==1,1],color='green',label='clutser2')
plt.scatter(X[y_kmeans==2,0],X[y_kmeans==2,1],color='blue',label='clutser3')
plt.scatter(X[y_kmeans==3,0],X[y_kmeans==3,1],color='orange',label='clutser4')
plt.scatter(X[y_kmeans==4,0],X[y_kmeans==4,1],color='yellow',label='clutser5')
plt.legend()
plt.scatter(kmeans.cluster_centers_[:,0],kmeans.cluster_centers_[:,1],s=300,c='magenta',label='Centroids')
