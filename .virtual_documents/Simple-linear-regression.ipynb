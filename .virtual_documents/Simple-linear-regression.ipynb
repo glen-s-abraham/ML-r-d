import numpy as np
import pandas as pd
import matplotlib.pyplot as plt


file = 'dataset/simple-linear-regression/Salary_Data.csv'
df = pd.read_csv(file)


X = df.iloc[:,:-1].values
Y = df.iloc[:,-1:].values


X


from sklearn.model_selection import train_test_split
x_train,x_test,y_train,y_test = train_test_split(X,Y,test_size=0.2,random_state=0)





from sklearn.linear_model import LinearRegression
regressor = LinearRegression()
regressor.fit(x_train,y_train)


x_test


y_test





y_pred = regressor.predict(x_test)





plt.scatter(x_train,y_train,color='red')
plt.plot(x_train,regressor.predict(x_train),color='blue')
plt.title('Salary vs. Experience')
plt.xlabel('Years of experience')
plt.ylabel('Salary')
plt.show()





plt.scatter(x_test,y_test,color='red')
plt.plot(x_train,regressor.predict(x_train),color='blue')
plt.title('Salary vs. Experience')
plt.xlabel('Years of experience')
plt.ylabel('Salary')
plt.show()
