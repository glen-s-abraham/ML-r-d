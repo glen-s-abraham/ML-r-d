{
 "cells": [
  {
   "cell_type": "code",
   "execution_count": 2,
   "id": "c607415d-e57a-4985-907b-d27076e639be",
   "metadata": {},
   "outputs": [],
   "source": [
    "import tensorflow as tf\n",
    "from keras.preprocessing.image import ImageDataGenerator\n"
   ]
  },
  {
   "cell_type": "code",
   "execution_count": 3,
   "id": "1c2e645f-8e2f-4eb8-af02-ef7573e22d79",
   "metadata": {},
   "outputs": [],
   "source": [
    "train_datagen = ImageDataGenerator(rescale = 1./255,\n",
    "                                   shear_range = 0.2,\n",
    "                                   zoom_range = 0.2,\n",
    "                                   horizontal_flip = True)"
   ]
  },
  {
   "cell_type": "code",
   "execution_count": 4,
   "id": "19ae7202-0717-40d9-b7bb-6a5534a09e54",
   "metadata": {},
   "outputs": [
    {
     "name": "stdout",
     "output_type": "stream",
     "text": [
      "Found 8000 images belonging to 2 classes.\n"
     ]
    }
   ],
   "source": [
    "# Preprocessing the Training set\n",
    "training_set = train_datagen.flow_from_directory('dataset/CNN/training_set',\n",
    "                                                 target_size = (64, 64),\n",
    "                                                 batch_size = 32,\n",
    "                                                 class_mode = 'binary')\n"
   ]
  },
  {
   "cell_type": "code",
   "execution_count": 5,
   "id": "c1128c02-d876-4937-8f13-f5c7473972f9",
   "metadata": {},
   "outputs": [
    {
     "name": "stdout",
     "output_type": "stream",
     "text": [
      "Found 2000 images belonging to 2 classes.\n"
     ]
    }
   ],
   "source": [
    "# Preprocessing the Test set\n",
    "test_datagen = ImageDataGenerator(rescale = 1./255)\n",
    "test_set = test_datagen.flow_from_directory('dataset/CNN/test_set',\n",
    "                                            target_size = (64, 64),\n",
    "                                            batch_size = 32,\n",
    "                                            class_mode = 'binary')"
   ]
  },
  {
   "cell_type": "code",
   "execution_count": 6,
   "id": "a99ed803-48ff-49a8-a90d-e1a7291cfbd4",
   "metadata": {},
   "outputs": [],
   "source": [
    "# Initialising the CNN\n",
    "cnn = tf.keras.models.Sequential()\n",
    "\n",
    "# Step 1 - Convolution\n",
    "cnn.add(tf.keras.layers.Conv2D(filters=32, kernel_size=3, activation='relu', input_shape=[64, 64, 3]))\n",
    "\n",
    "# Step 2 - Pooling\n",
    "cnn.add(tf.keras.layers.MaxPool2D(pool_size=2, strides=2))\n",
    "\n",
    "# Adding a second convolutional layer\n",
    "cnn.add(tf.keras.layers.Conv2D(filters=32, kernel_size=3, activation='relu'))\n",
    "cnn.add(tf.keras.layers.MaxPool2D(pool_size=2, strides=2))\n",
    "\n",
    "# Step 3 - Flattening\n",
    "cnn.add(tf.keras.layers.Flatten())\n",
    "\n",
    "# Step 4 - Full Connection\n",
    "cnn.add(tf.keras.layers.Dense(units=128, activation='relu'))\n",
    "\n",
    "# Step 5 - Output Layer\n",
    "cnn.add(tf.keras.layers.Dense(units=1, activation='sigmoid'))\n"
   ]
  },
  {
   "cell_type": "code",
   "execution_count": 7,
   "id": "7ab2a024-b596-41c5-96f2-d7723f09081c",
   "metadata": {},
   "outputs": [
    {
     "name": "stdout",
     "output_type": "stream",
     "text": [
      "Epoch 1/10\n",
      "250/250 [==============================] - 34s 131ms/step - loss: 0.6686 - accuracy: 0.5791 - val_loss: 0.6335 - val_accuracy: 0.6525\n",
      "Epoch 2/10\n",
      "250/250 [==============================] - 24s 96ms/step - loss: 0.5964 - accuracy: 0.6852 - val_loss: 0.5978 - val_accuracy: 0.6820\n",
      "Epoch 3/10\n",
      "250/250 [==============================] - 26s 106ms/step - loss: 0.5478 - accuracy: 0.7149 - val_loss: 0.5496 - val_accuracy: 0.7345\n",
      "Epoch 4/10\n",
      "250/250 [==============================] - 23s 91ms/step - loss: 0.5234 - accuracy: 0.7412 - val_loss: 0.5257 - val_accuracy: 0.7405\n",
      "Epoch 5/10\n",
      "250/250 [==============================] - 25s 101ms/step - loss: 0.4941 - accuracy: 0.7558 - val_loss: 0.5202 - val_accuracy: 0.7505\n",
      "Epoch 6/10\n",
      "250/250 [==============================] - 23s 92ms/step - loss: 0.4774 - accuracy: 0.7722 - val_loss: 0.5087 - val_accuracy: 0.7645\n",
      "Epoch 7/10\n",
      "250/250 [==============================] - 29s 116ms/step - loss: 0.4577 - accuracy: 0.7819 - val_loss: 0.4753 - val_accuracy: 0.7770\n",
      "Epoch 8/10\n",
      "250/250 [==============================] - 23s 91ms/step - loss: 0.4335 - accuracy: 0.7983 - val_loss: 0.4728 - val_accuracy: 0.7750\n",
      "Epoch 9/10\n",
      "250/250 [==============================] - 27s 107ms/step - loss: 0.4218 - accuracy: 0.8030 - val_loss: 0.4636 - val_accuracy: 0.7785\n",
      "Epoch 10/10\n",
      "250/250 [==============================] - 26s 104ms/step - loss: 0.4113 - accuracy: 0.8060 - val_loss: 0.4823 - val_accuracy: 0.7915\n"
     ]
    },
    {
     "data": {
      "text/plain": [
       "<keras.src.callbacks.History at 0x7f37058da9b0>"
      ]
     },
     "execution_count": 7,
     "metadata": {},
     "output_type": "execute_result"
    }
   ],
   "source": [
    "# Compiling the CNN\n",
    "cnn.compile(optimizer = 'adam', loss = 'binary_crossentropy', metrics = ['accuracy'])\n",
    "\n",
    "# Training the CNN on the Training set and evaluating it on the Test set\n",
    "cnn.fit(x = training_set, validation_data = test_set, epochs = 10)"
   ]
  },
  {
   "cell_type": "code",
   "execution_count": 11,
   "id": "66e6511f-146c-4dd9-a037-636dc6cba3c2",
   "metadata": {},
   "outputs": [
    {
     "name": "stdout",
     "output_type": "stream",
     "text": [
      "1/1 [==============================] - 0s 17ms/step\n",
      "dog\n"
     ]
    }
   ],
   "source": [
    "import numpy as np\n",
    "from keras.preprocessing import image\n",
    "test_image = image.load_img('dataset/CNN/prediction.jpeg', target_size = (64, 64))\n",
    "test_image = image.img_to_array(test_image)\n",
    "test_image = np.expand_dims(test_image, axis = 0)\n",
    "result = cnn.predict(test_image)\n",
    "training_set.class_indices\n",
    "if result[0][0] == 1:\n",
    "    prediction = 'dog'\n",
    "else:\n",
    "    prediction = 'cat'\n",
    "print(prediction)"
   ]
  }
 ],
 "metadata": {
  "kernelspec": {
   "display_name": "Python 3 (ipykernel)",
   "language": "python",
   "name": "python3"
  },
  "language_info": {
   "codemirror_mode": {
    "name": "ipython",
    "version": 3
   },
   "file_extension": ".py",
   "mimetype": "text/x-python",
   "name": "python",
   "nbconvert_exporter": "python",
   "pygments_lexer": "ipython3",
   "version": "3.10.12"
  }
 },
 "nbformat": 4,
 "nbformat_minor": 5
}
