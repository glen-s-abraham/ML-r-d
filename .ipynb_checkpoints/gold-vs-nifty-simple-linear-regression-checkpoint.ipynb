{
 "cells": [
  {
   "cell_type": "code",
   "execution_count": 39,
   "id": "19c0067d-6352-4f5f-aa2d-2b2b5a47534e",
   "metadata": {},
   "outputs": [],
   "source": [
    "import numpy as np\n",
    "import pandas as pd\n",
    "import matplotlib.pyplot as plt"
   ]
  },
  {
   "cell_type": "code",
   "execution_count": 41,
   "id": "a5f6f000-b101-4f45-b9e1-836cc6eb2b01",
   "metadata": {},
   "outputs": [],
   "source": [
    "file = 'dataset/.csv'\n",
    "df = pd.read_csv('dataset/gold-nifty.csv')"
   ]
  },
  {
   "cell_type": "code",
   "execution_count": 43,
   "id": "b1205bd0-a762-4b18-9ce3-7f2efbf6da5e",
   "metadata": {},
   "outputs": [],
   "source": [
    "X = df.iloc[:,:-1].values\n",
    "Y = df.iloc[:,-1:].values"
   ]
  },
  {
   "cell_type": "code",
   "execution_count": 44,
   "id": "2bce7d1e-84f2-4a74-bc43-2aa00083ffa1",
   "metadata": {},
   "outputs": [
    {
     "data": {
      "text/plain": [
       "array([[52.22999954],\n",
       "       [52.52999878],\n",
       "       [52.54999924],\n",
       "       [52.5       ],\n",
       "       [51.91999817],\n",
       "       [51.66999817],\n",
       "       [52.20000076],\n",
       "       [51.83000183],\n",
       "       [51.97999954],\n",
       "       [51.58000183],\n",
       "       [51.18000031],\n",
       "       [51.08000183],\n",
       "       [51.38999939],\n",
       "       [51.34999847],\n",
       "       [51.        ],\n",
       "       [50.70999908],\n",
       "       [51.47999954],\n",
       "       [51.68999863],\n",
       "       [52.02999878],\n",
       "       [51.97000122],\n",
       "       [52.5       ],\n",
       "       [52.54999924],\n",
       "       [52.08000183],\n",
       "       [51.95999908],\n",
       "       [52.11000061],\n",
       "       [51.99000168],\n",
       "       [51.99000168],\n",
       "       [51.99000168],\n",
       "       [51.93000031],\n",
       "       [52.02999878],\n",
       "       [51.90000153],\n",
       "       [51.72999954],\n",
       "       [51.63000107],\n",
       "       [51.63000107],\n",
       "       [51.56999969],\n",
       "       [51.38000107],\n",
       "       [51.29000092],\n",
       "       [51.13999939],\n",
       "       [51.36999893],\n",
       "       [51.31000137],\n",
       "       [51.5       ],\n",
       "       [51.49000168],\n",
       "       [51.38999939],\n",
       "       [51.58000183],\n",
       "       [51.88000107],\n",
       "       [51.99000168],\n",
       "       [51.99000168],\n",
       "       [52.04000092],\n",
       "       [51.91999817],\n",
       "       [51.88999939],\n",
       "       [51.84000015],\n",
       "       [51.84999847],\n",
       "       [51.72000122],\n",
       "       [51.52999878],\n",
       "       [51.31999969],\n",
       "       [51.36999893],\n",
       "       [51.63999939],\n",
       "       [51.91999817],\n",
       "       [52.04000092],\n",
       "       [        nan]])"
      ]
     },
     "execution_count": 44,
     "metadata": {},
     "output_type": "execute_result"
    }
   ],
   "source": []
  },
  {
   "cell_type": "code",
   "execution_count": null,
   "id": "39a3f697-4a25-4fa6-8be9-4cf820f43519",
   "metadata": {},
   "outputs": [],
   "source": []
  }
 ],
 "metadata": {
  "kernelspec": {
   "display_name": "Python 3 (ipykernel)",
   "language": "python",
   "name": "python3"
  },
  "language_info": {
   "codemirror_mode": {
    "name": "ipython",
    "version": 3
   },
   "file_extension": ".py",
   "mimetype": "text/x-python",
   "name": "python",
   "nbconvert_exporter": "python",
   "pygments_lexer": "ipython3",
   "version": "3.11.4"
  }
 },
 "nbformat": 4,
 "nbformat_minor": 5
}
